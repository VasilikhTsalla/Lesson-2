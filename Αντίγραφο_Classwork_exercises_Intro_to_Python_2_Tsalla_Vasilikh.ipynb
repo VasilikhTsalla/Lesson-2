{
  "nbformat": 4,
  "nbformat_minor": 0,
  "metadata": {
    "colab": {
      "provenance": []
    },
    "kernelspec": {
      "name": "python3",
      "display_name": "Python 3"
    },
    "language_info": {
      "name": "python"
    }
  },
  "cells": [
    {
      "cell_type": "markdown",
      "source": [
        "#Ασκήσεις του μαθήματος \"Εισαγωγή στην Python 2 - Εντολές ελέγχου: for και if\""
      ],
      "metadata": {
        "id": "AGAGAw3z6_bZ"
      }
    },
    {
      "cell_type": "markdown",
      "source": [
        "\n",
        "\n",
        "---\n",
        "\n",
        "####**Άσκηση 1**\n",
        "\n",
        "**Try yourself**: Φτιάξτε ένα νέο κελί κώδικα ακριβώς από κάτω και:\n",
        "\n",
        "* Φτιάξτε μια λίστα με ονόματα 3 αγαπημένων σας ηθοποιών\n",
        "* Φτιάξτε άλλη μια λίστα με το βαθμό (από το 1 έως το 10) που θα τους βάζατε\n",
        "* Φτιάξτε μια λούπα που να τρέχει στη λίστα των ηθποιών και να τυπώνει το όνομα του/της ηθοποιού με το βαθμό του "
      ],
      "metadata": {
        "id": "9KIe03Wzq7p3"
      }
    },
    {
      "cell_type": "code",
      "source": [
        "fav_actr = [\"Jennifer Aniston\", \"Courteney Cox\", \"Matt LeBlanc\"]\n",
        "rate = [9, 8, 9]\n",
        "for i in range (0, len(fav_actr)):\n",
        "  print(\"Ο ηθοποιός\", fav_actr[i], \"βαθμολογείται με:\", rate[i])"
      ],
      "metadata": {
        "colab": {
          "base_uri": "https://localhost:8080/"
        },
        "id": "3iy1xBAgyIeH",
        "outputId": "86ecc538-64b3-46ff-96e1-328203a4c3e7"
      },
      "execution_count": 3,
      "outputs": [
        {
          "output_type": "stream",
          "name": "stdout",
          "text": [
            "Ο ηθοποιός Jennifer Aniston βαθμολογείται με: 9\n",
            "Ο ηθοποιός Courteney Cox βαθμολογείται με: 8\n",
            "Ο ηθοποιός Matt LeBlanc βαθμολογείται με: 9\n"
          ]
        }
      ]
    },
    {
      "cell_type": "markdown",
      "source": [
        "\n",
        "\n",
        "---\n",
        "\n",
        "####**Άσκηση 2**\n",
        "\n",
        "**Try yourself**: Στο παρακάτω κελί και κάτω από τον υπάρχοντα κώδικα:\n",
        "\n",
        "* φτιάξτε μια for loop που θα τρέχει 22 φορές και \n",
        "* θα φτιάχνει μια μεταβλητή με όνομα c και τιμή το άθροισμα των a και b\n",
        "* θα τυπώνει την τιμή του c\n",
        "* θα αλλάζει την τιμή του a σε b και  \n",
        "* θα αλλάζει την τιμή του b σε c\n",
        "* τρέξτε τον κώδικα\n"
      ],
      "metadata": {
        "id": "wJDRIJj4seRf"
      }
    },
    {
      "cell_type": "code",
      "source": [
        "a = 0 \n",
        "b = 1\n",
        "print(a)\n",
        "print(b)\n"
      ],
      "metadata": {
        "id": "cM6QC3X0twzD",
        "colab": {
          "base_uri": "https://localhost:8080/"
        },
        "outputId": "d62a2432-00b0-4674-9f28-a539de51f4d1"
      },
      "execution_count": 4,
      "outputs": [
        {
          "output_type": "stream",
          "name": "stdout",
          "text": [
            "0\n",
            "1\n"
          ]
        }
      ]
    },
    {
      "cell_type": "code",
      "source": [
        "for i in range (0,22):\n",
        "  c = a + b\n",
        "  print(c)\n",
        "  a = b\n",
        "  b = c"
      ],
      "metadata": {
        "colab": {
          "base_uri": "https://localhost:8080/"
        },
        "id": "Jv7UQ1JazJWN",
        "outputId": "9603a85e-0570-4e37-8834-2a26c2131d01"
      },
      "execution_count": 5,
      "outputs": [
        {
          "output_type": "stream",
          "name": "stdout",
          "text": [
            "1\n",
            "2\n",
            "3\n",
            "5\n",
            "8\n",
            "13\n",
            "21\n",
            "34\n",
            "55\n",
            "89\n",
            "144\n",
            "233\n",
            "377\n",
            "610\n",
            "987\n",
            "1597\n",
            "2584\n",
            "4181\n",
            "6765\n",
            "10946\n",
            "17711\n",
            "28657\n"
          ]
        }
      ]
    },
    {
      "cell_type": "markdown",
      "source": [
        "\n",
        "\n",
        "---\n",
        "\n",
        "####**Άσκηση 3**\n",
        "\n",
        "**Try yourself**: Συμπληρώστε το παρακάτω code cell, ακολουθώντας τα σχόλια που περιέχει, έτσι ώστε ο κώδικας:\n",
        "\n",
        "* να φτιάχνει ένα λεξικό με κλειδιά τις πόλεις: Αθήνα, θεσσαλονίκη, Λισαβόνα και τιμές σε όλα το 0\n",
        "* να φτιάχνει μια λίστα με τιμές αριθμούς που δηλώνουν τις θερμοκρασίες της ημέρας σε κάθε πόλη: 19, 17, 21\n",
        "* να περιέχει μια λούπα που θα τρέχει αριθμούς στο εύρος των τιμών που μπορεί να πάρει το index των αντικειμένων της λίστας και\n",
        "  1. θα εκχωρεί το εκάστοτε όνομα του key του λεξικού σε μια μεταβλητή\n",
        "  2. θα θέτει σαν τιμή του εκάστοτε κλειδιού την αντίστοιχη τιμή από τη λίστα των θερμοκρασιών\n",
        "\n",
        "**Tips**: \n",
        "* θα χρησιμοποιηθεί η συνάρτηση list για να μετατραπεί το set των keys() σε λίστα\n",
        "* θα χρησιμοποιηθεί ο αριθμός index για να επιλέγονται τα keys του λεξικού και τα αντικείμενα της λίστας\n"
      ],
      "metadata": {
        "id": "s72eW477yQAa"
      }
    },
    {
      "cell_type": "code",
      "source": [
        "# φτιάξε ένα λεξικό με κλειδιά τις πόλεις: Αθήνα, θεσσαλονίκη, Λισαβόνα και τιμές σε όλα το 0\n",
        "cities_tempD = {\"Αθήνα\":0,\n",
        "                \"Θεσσαλονίκη\":0,\n",
        "                \"Λισαβόνα\": 0}\n",
        "\n",
        "# φτιάξτε μια λίστα με τιμές αριθμούς που δηλώνουν τις θερμοκρασίες της ημέρας σε κάθε πόλη: 19, 17, 21\n",
        "tempL = [19, 17, 21]\n",
        "\n",
        "# φτιάξτε μια for λούπα που θα τρέχει αριθμούς στο εύρος των τιμών που μπορεί να πάρει το index των αντικειμένων της λίστας temp\n",
        "for i in range (0, len(tempL)):\n",
        "  # δώσε στη μεταβλητή key την τιμή του κλειδιού του λεξικού που αντιστοιχεί στον τρέχοντα αριθμό index\n",
        "  key = list(cities_tempD.keys()) [i]\n",
        "  # μην ξεχάσετε να μετατρέψετε το set των keys σε λίστα - προσοχή στις παρενθέσεις\n",
        "  # δώσε στο τρέχον key του λεξικού την τιμή από τη λίστα των θερμοκρασιών που αντιστοιχεί στον τρέχοντα αριθμό index\n",
        "  cities_tempD[key] = tempL[i] \n",
        "# (εκτός της for λούπας - δηλαδή χωρίς intend) τύπωσε το λεξικό\n",
        "print(cities_tempD)"
      ],
      "metadata": {
        "id": "Vc3syTaA0KPe",
        "colab": {
          "base_uri": "https://localhost:8080/"
        },
        "outputId": "f0a1c531-99a1-4f10-a114-4a2df13d9c55"
      },
      "execution_count": 6,
      "outputs": [
        {
          "output_type": "stream",
          "name": "stdout",
          "text": [
            "{'Αθήνα': 19, 'Θεσσαλονίκη': 17, 'Λισαβόνα': 21}\n"
          ]
        }
      ]
    },
    {
      "cell_type": "code",
      "source": [],
      "metadata": {
        "id": "CMHPq4yr3XuB"
      },
      "execution_count": 6,
      "outputs": []
    },
    {
      "cell_type": "code",
      "source": [],
      "metadata": {
        "id": "uFc5pLHN3Rco"
      },
      "execution_count": 6,
      "outputs": []
    },
    {
      "cell_type": "code",
      "source": [],
      "metadata": {
        "id": "B-tXx5Ag24FE"
      },
      "execution_count": 6,
      "outputs": []
    },
    {
      "cell_type": "markdown",
      "source": [
        "\n",
        "\n",
        "---\n",
        "\n",
        "####**Ασκηση 4**\n",
        "\n",
        "**Try yourself**: \n",
        "\n",
        "Στο κελί κώδικα ακριβώς κάτω από αυτό:\n",
        "\n",
        "* δημιουργήστε μια μεταβλητή με τιμή το όνομά σας και τρέξτε το κελί\n",
        "\n",
        "Φτιάξτε ένα **νέο κελί** (Code cell) από κάτω και:\n",
        "\n",
        "* γράψτε ένα κομμάτι κώδικα το οποίο:\n",
        "  * θα ελέγχει αν η τιμή της μεταβλητής του ονόματος είναι \"Terry\"\n",
        "  * αν είναι, θα τυπώνει στην οθόνη \"Γειά σου Terry!\"\n",
        "  * αν δεν είναι:\n",
        "    * θα τυπώνει \"Wrong user\" και \n",
        "    * θα θέτει στη μεταβλητή του ονόματός σας την τιμή \"Terry\"\n",
        "* πριν τρέξετε το κελί, μαντέψτε τι θα τυπωθεί στην οθόνη\n",
        "* τρέξτε το κελί και συγκρίνετε το αποτέλεσμα με τη μαντεψιά σας\n",
        "* τι θα τυπωθεί αν ξανατρέξετε το κελί;"
      ],
      "metadata": {
        "id": "HSPetZqoTPiy"
      }
    },
    {
      "cell_type": "code",
      "source": [
        "name = \"Vasilikh\""
      ],
      "metadata": {
        "id": "Kq6yGIKdKKRT"
      },
      "execution_count": 7,
      "outputs": []
    },
    {
      "cell_type": "code",
      "source": [
        "if name == \"Terry\":\n",
        "  print(\"Γειά σου Terry!\")\n",
        "else:\n",
        "  print(\"Wrong user\", name.replace(\"Vasilikh\",\"Terry\"))"
      ],
      "metadata": {
        "colab": {
          "base_uri": "https://localhost:8080/"
        },
        "id": "QUWdyQ0NcjWM",
        "outputId": "b6c89138-46f5-4460-d5cf-732e2f14b535"
      },
      "execution_count": 8,
      "outputs": [
        {
          "output_type": "stream",
          "name": "stdout",
          "text": [
            "Wrong user Terry\n"
          ]
        }
      ]
    },
    {
      "cell_type": "markdown",
      "source": [
        "* πώς θα κάνετε να ξανατυπώσει \"Wrong user\" χωρίς να γράψετε καθόλου κώδικα; Γράψτε την απάντηση από κάτω σε ένα text cell ή σε ένα code cell σαν comment."
      ],
      "metadata": {
        "id": "76wOxK3XjOek"
      }
    },
    {
      "cell_type": "markdown",
      "source": [
        "\n",
        "\n",
        "---\n",
        "\n",
        "####**Άσκηση 5**"
      ],
      "metadata": {
        "id": "hedzZ2gBa-6g"
      }
    },
    {
      "cell_type": "markdown",
      "source": [
        "Γράψτε έναν κώδικα που θα λουπάρει σε όλα τα φρούτα της λίστας και σε όλους τους αριθμούς της countL και θα τυπώνει το μήνυμα: We've got <αριθμός> <φρούτο>\n",
        "\n",
        "**Tip**: χρησιμοποιήστε nested for loops (μια for loop μέσα σε μια άλλη for loop)"
      ],
      "metadata": {
        "id": "RLB0fP0gczIt"
      }
    },
    {
      "cell_type": "code",
      "source": [
        "F1 = fruitsL[0][:-1]\n",
        "F2= fruitsL[1][:-1]\n",
        "F3 = fruitsL[2][:-1]\n",
        "F4 = fruitsL[3][:-1]\n",
        "F = F1, F2, F3, F4\n",
        "print(F)"
      ],
      "metadata": {
        "colab": {
          "base_uri": "https://localhost:8080/"
        },
        "id": "qZdQ29NPgNQA",
        "outputId": "ffbda6f5-5d75-4fe6-a683-6c4cc535e59c"
      },
      "execution_count": 9,
      "outputs": [
        {
          "output_type": "stream",
          "name": "stdout",
          "text": [
            "('apple', 'orange', 'strawberrie', 'apricot')\n"
          ]
        }
      ]
    },
    {
      "cell_type": "code",
      "source": [
        "a = fruitsL[0][3]\n",
        "b = fruitsL[1][4]\n",
        "c = fruitsL[2][9]\n",
        "d = fruitsL[3][6]\n",
        "third_letter = [a, b, c, d]\n",
        "print(third_letter)"
      ],
      "metadata": {
        "colab": {
          "base_uri": "https://localhost:8080/"
        },
        "id": "OvfrtvAYovui",
        "outputId": "71ac287a-c34c-4735-b06a-5895c5ccfc47"
      },
      "execution_count": 10,
      "outputs": [
        {
          "output_type": "stream",
          "name": "stdout",
          "text": [
            "['l', 'g', 'i', 't']\n"
          ]
        }
      ]
    },
    {
      "cell_type": "code",
      "source": [
        "\n",
        "for fruit in fruitsL:\n",
        "  for number in countsL:\n",
        "    if number == 1:\n",
        "      if third_letter == \"i\":\n",
        "        swsto_onoma = strawberries.replace(\"i\", \"y\")\n",
        "        print(\"We've got\", number, swsto_onoma)\n",
        "      else:\n",
        "        print(\"We've got\", number, F1,F2, F3, F4)\n",
        "    else:\n",
        "      print(\"We've got\", number, fruit)\n",
        "\n"
      ],
      "metadata": {
        "colab": {
          "base_uri": "https://localhost:8080/"
        },
        "id": "1DTcDMgOm3ys",
        "outputId": "0807515e-b753-469a-d3ee-821b5d286f31"
      },
      "execution_count": 11,
      "outputs": [
        {
          "output_type": "stream",
          "name": "stdout",
          "text": [
            "We've got 1 apple orange strawberrie apricot\n",
            "We've got 10 apples\n",
            "We've got 1 apple orange strawberrie apricot\n",
            "We've got 10 oranges\n",
            "We've got 1 apple orange strawberrie apricot\n",
            "We've got 10 strawberries\n",
            "We've got 1 apple orange strawberrie apricot\n",
            "We've got 10 apricots\n"
          ]
        }
      ]
    },
    {
      "cell_type": "markdown",
      "source": [
        "Ξέρουμε ήδη ότι ένα string είναι λίστα. Επομένως μπορούμε χρησιμοποιώντας το slicing να πάρουμε τα ονόματα των φρούτων στον ενικό αφαιρώντας το \"s\" που είναι στο τέλος."
      ],
      "metadata": {
        "id": "gOZ3V13gd_CJ"
      }
    },
    {
      "cell_type": "code",
      "source": [
        "fruitsL[0][:-1]   # καλούμε το πρώτο όνομα της λίστας και από αυτό κρατάμε τα γράμματα από την αρχή έως το προτελευταίο"
      ],
      "metadata": {
        "id": "CfYY5HAie8gY",
        "colab": {
          "base_uri": "https://localhost:8080/",
          "height": 37
        },
        "outputId": "22d90694-b085-4055-f9e9-52937ba56012"
      },
      "execution_count": 12,
      "outputs": [
        {
          "output_type": "execute_result",
          "data": {
            "text/plain": [
              "'apple'"
            ],
            "application/vnd.google.colaboratory.intrinsic+json": {
              "type": "string"
            }
          },
          "metadata": {},
          "execution_count": 12
        }
      ]
    },
    {
      "cell_type": "markdown",
      "source": [
        "Ωραία, αλλά και πάλι, το strawberrie δεν είναι σωστό. \n",
        "\n",
        "Αντιγράψτε τον κώδικα και προσθέστε μια εντολή if, η οποία θα ελέγχει αν το τρίτο γράμμα από το τέλος του εκάστοτε ονόματος στη λίστα των φρούτων είναι \"i\" (strawberr**i**es). Αν είναι, τότε θα αντικαθιστά (replace) ό,τι πρέπει να αντικατασταθεί όταν τυπώνει το όνομα. \n",
        "\n",
        "**Help**: o ψευτοκώδικας θα ήταν κάπως έτσι:\n",
        "\n",
        "```\n",
        "Για κάθε φρούτο στη fruitsL:\n",
        "  Για κάθε αριθμό στην countsL:\n",
        "    Αν ο αριθμός είναι 1:\n",
        "      Αν <το 3ο γράμμα απ' το τέλος στο όνομα του φρούτου> είναι \"i\":\n",
        "        σωστό_όνομα = <φρούτο απ'τη λίστα με αντικατάσταση της κατάληξης τάδε με τάδε> \n",
        "        τύπωσε(έχουμε <αριθμός> <σωστό όνομα>)\n",
        "      Αλλιώς:\n",
        "        τύπωσε(έχουμε <αριθμός> <φρούτο από τη λίστα χωρίς \"s\">)\n",
        "    Αλλιώς:\n",
        "      τύπωσε(έχουμε <αριθμός> <φρούτο από τη λίστα)\n",
        "```"
      ],
      "metadata": {
        "id": "gEgSD4T8gR9J"
      }
    },
    {
      "cell_type": "code",
      "source": [
        "fruitsL = [\"apples\", \"oranges\", \"strawberries\", \"apricots\"]\n",
        "countsL = [1, 10]\n",
        "\n",
        "F1 = fruitsL[0][:-1]\n",
        "F2= fruitsL[1][:-1]\n",
        "F3 = fruitsL[2][:-1]\n",
        "F4 = fruitsL[3][:-1]\n",
        "F = [F1, F2, F3, F4]\n",
        "\n",
        "a = fruitsL[0][3]\n",
        "b = fruitsL[1][4]\n",
        "c = fruitsL[2][9]\n",
        "d = fruitsL[3][6]\n",
        "third_letter = [a, b, c, d]"
      ],
      "metadata": {
        "id": "_ialSNLj8ba7"
      },
      "execution_count": 13,
      "outputs": []
    },
    {
      "cell_type": "code",
      "source": [
        "for fruit in fruitsL:\n",
        "  for number in countsL:\n",
        "    if number == 1:\n",
        "      if fruitsL[i].endswith(\"i\"):\n",
        "        swsto_onoma = \"strawberries\".replace(\"ies\", \"y\")\n",
        "        print(\"We've got\", number, swsto_onoma)\n",
        "      else:\n",
        "        print(\"We've got\", number, F)\n",
        "    else:\n",
        "      print(\"We've got\", number, fruit)\n",
        "\n"
      ],
      "metadata": {
        "colab": {
          "base_uri": "https://localhost:8080/"
        },
        "id": "XzdhEIhb8c8D",
        "outputId": "1c16ea5c-c7ba-49e8-c7c0-f1f5dc19d888"
      },
      "execution_count": 25,
      "outputs": [
        {
          "output_type": "stream",
          "name": "stdout",
          "text": [
            "We've got 1 ['apple', 'orange', 'strawberrie', 'apricot']\n",
            "We've got 10 apples\n",
            "We've got 1 ['apple', 'orange', 'strawberrie', 'apricot']\n",
            "We've got 10 oranges\n",
            "We've got 1 ['apple', 'orange', 'strawberrie', 'apricot']\n",
            "We've got 10 strawberries\n",
            "We've got 1 ['apple', 'orange', 'strawberrie', 'apricot']\n",
            "We've got 10 apricots\n"
          ]
        }
      ]
    },
    {
      "cell_type": "markdown",
      "source": [
        "Όσους τρόπους και αν προσπάθησα, κάπου αντιμετωπίζω δυσκολία και δεν μπόρεσα να φτάσω στη λύση της."
      ],
      "metadata": {
        "id": "JcPWaxiSxWyu"
      }
    }
  ]
}